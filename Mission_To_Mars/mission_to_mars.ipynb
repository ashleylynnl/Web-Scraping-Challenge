{
 "cells": [
  {
   "cell_type": "code",
   "execution_count": 307,
   "id": "cbcaff2a",
   "metadata": {},
   "outputs": [],
   "source": [
    "#Imports & Dependencies\n",
    "from bs4 import BeautifulSoup as bs\n",
    "from splinter import Browser\n",
    "from webdriver_manager.chrome import ChromeDriverManager\n",
    "import requests\n",
    "import pymongo\n",
    "import os\n",
    "import time \n",
    "import pandas as pd"
   ]
  },
  {
   "cell_type": "code",
   "execution_count": 308,
   "id": "c9bde489",
   "metadata": {},
   "outputs": [
    {
     "name": "stderr",
     "output_type": "stream",
     "text": [
      "\n",
      "\n",
      "====== WebDriver manager ======\n",
      "Current google-chrome version is 93.0.4577\n",
      "Get LATEST driver version for 93.0.4577\n",
      "Driver [/Users/Ashley/.wdm/drivers/chromedriver/mac64/93.0.4577.63/chromedriver] found in cache\n"
     ]
    }
   ],
   "source": [
    "#Site Navigation\n",
    "executable_path = {'executable_path': ChromeDriverManager().install()}\n",
    "browser = Browser('chrome', **executable_path, headless=False)"
   ]
  },
  {
   "cell_type": "code",
   "execution_count": 309,
   "id": "055a48b2",
   "metadata": {},
   "outputs": [],
   "source": [
    "# Initialize PyMongo to work with MongoDBs\n",
    "conn = 'mongodb://localhost:27017'\n",
    "client = pymongo.MongoClient(conn)"
   ]
  },
  {
   "cell_type": "code",
   "execution_count": 310,
   "id": "b87c4619",
   "metadata": {},
   "outputs": [],
   "source": [
    "# Define database and collection\n",
    "db = client.commerce_db\n",
    "collection = db.items"
   ]
  },
  {
   "cell_type": "code",
   "execution_count": 311,
   "id": "c9072ea5",
   "metadata": {},
   "outputs": [],
   "source": [
    "# URL of page to be scraped\n",
    "url = 'https://redplanetscience.com/'\n",
    "browser.visit(url)\n",
    "time.sleep(2)\n",
    "\n",
    "\n",
    "\n",
    "# Create BeautifulSoup object;\n",
    "# Convert the browser html to a soup object\n",
    "html = browser.html\n",
    "news_bs = bs(html, 'html.parser')\n",
    "\n",
    "slide_elem = news_bs.select_one('div.list_text')"
   ]
  },
  {
   "cell_type": "code",
   "execution_count": 312,
   "id": "07d34d87",
   "metadata": {},
   "outputs": [
    {
     "data": {
      "text/plain": [
       "<div class=\"content_title\">HiRISE Views NASA's InSight and Curiosity on Mars</div>"
      ]
     },
     "execution_count": 312,
     "metadata": {},
     "output_type": "execute_result"
    }
   ],
   "source": [
    "slide_elem.find('div', class_='content_title')"
   ]
  },
  {
   "cell_type": "code",
   "execution_count": 313,
   "id": "ee9fcb42",
   "metadata": {},
   "outputs": [
    {
     "data": {
      "text/plain": [
       "\"HiRISE Views NASA's InSight and Curiosity on Mars\""
      ]
     },
     "execution_count": 313,
     "metadata": {},
     "output_type": "execute_result"
    }
   ],
   "source": [
    "# Use the parent element to find the first a tag and save it as `news_title`\n",
    "news_title = slide_elem.find('div', class_='content_title').get_text()\n",
    "news_title"
   ]
  },
  {
   "cell_type": "code",
   "execution_count": 314,
   "id": "8e4fd625",
   "metadata": {},
   "outputs": [
    {
     "data": {
      "text/plain": [
       "'New images taken from space offer the clearest orbital glimpse yet of InSight as well as a view of Curiosity rolling along.'"
      ]
     },
     "execution_count": 314,
     "metadata": {},
     "output_type": "execute_result"
    }
   ],
   "source": [
    "# Use the parent element to find the paragraph text\n",
    "news_p = slide_elem.find('div', class_='article_teaser_body').get_text()\n",
    "news_p"
   ]
  },
  {
   "cell_type": "code",
   "execution_count": 315,
   "id": "999b212f",
   "metadata": {},
   "outputs": [],
   "source": [
    "# website: https://spaceimages-mars.com/\n",
    "# Use splinter to navigate the site and find the image url for the current Featured \n",
    "# Mars Image and assign the url string to a variable called featured_image_url\n",
    "\n",
    "url = \"https://spaceimages-mars.com/\"\n",
    "browser.visit(url)\n",
    "time.sleep(2)"
   ]
  },
  {
   "cell_type": "code",
   "execution_count": 316,
   "id": "0817600c",
   "metadata": {},
   "outputs": [],
   "source": [
    "# JPL Mars Space Images - Featured Image"
   ]
  },
  {
   "cell_type": "code",
   "execution_count": 317,
   "id": "793931f2",
   "metadata": {},
   "outputs": [],
   "source": [
    "html = browser.html\n",
    "image_bs = bs(html, 'html.parser')\n",
    "\n",
    "slide_elem = image_bs.select_one('div.list_text')"
   ]
  },
  {
   "cell_type": "code",
   "execution_count": 318,
   "id": "e6accae5",
   "metadata": {},
   "outputs": [],
   "source": [
    "header = image_bs.find_all('div', class_='header')"
   ]
  },
  {
   "cell_type": "code",
   "execution_count": 319,
   "id": "4d010b2b",
   "metadata": {},
   "outputs": [
    {
     "data": {
      "text/plain": [
       "'image/featured/mars3.jpg'"
      ]
     },
     "execution_count": 319,
     "metadata": {},
     "output_type": "execute_result"
    }
   ],
   "source": [
    "header_image = image_bs.find('img', class_='headerimage fade-in').get('src')\n",
    "header_image"
   ]
  },
  {
   "cell_type": "code",
   "execution_count": 320,
   "id": "2f05c148",
   "metadata": {},
   "outputs": [
    {
     "name": "stdout",
     "output_type": "stream",
     "text": [
      "https://spaceimages-mars.com/image/featured/mars3.jpg\n"
     ]
    }
   ],
   "source": [
    "featured_image_url = url + header_image\n",
    "print(featured_image_url)"
   ]
  },
  {
   "cell_type": "code",
   "execution_count": 321,
   "id": "3df8cabf",
   "metadata": {},
   "outputs": [],
   "source": [
    "# Mars Facts\n",
    "\n",
    "# Give url variable name\n",
    "url = 'https://galaxyfacts-mars.com/'"
   ]
  },
  {
   "cell_type": "code",
   "execution_count": 322,
   "id": "f59a716d",
   "metadata": {},
   "outputs": [
    {
     "data": {
      "text/html": [
       "<div>\n",
       "<style scoped>\n",
       "    .dataframe tbody tr th:only-of-type {\n",
       "        vertical-align: middle;\n",
       "    }\n",
       "\n",
       "    .dataframe tbody tr th {\n",
       "        vertical-align: top;\n",
       "    }\n",
       "\n",
       "    .dataframe thead th {\n",
       "        text-align: right;\n",
       "    }\n",
       "</style>\n",
       "<table border=\"1\" class=\"dataframe\">\n",
       "  <thead>\n",
       "    <tr style=\"text-align: right;\">\n",
       "      <th></th>\n",
       "      <th>Description</th>\n",
       "      <th>Plant 1</th>\n",
       "      <th>Plant 2</th>\n",
       "    </tr>\n",
       "  </thead>\n",
       "  <tbody>\n",
       "    <tr>\n",
       "      <th>0</th>\n",
       "      <td>Mars - Earth Comparison</td>\n",
       "      <td>Mars</td>\n",
       "      <td>Earth</td>\n",
       "    </tr>\n",
       "    <tr>\n",
       "      <th>1</th>\n",
       "      <td>Diameter:</td>\n",
       "      <td>6,779 km</td>\n",
       "      <td>12,742 km</td>\n",
       "    </tr>\n",
       "    <tr>\n",
       "      <th>2</th>\n",
       "      <td>Mass:</td>\n",
       "      <td>6.39 × 10^23 kg</td>\n",
       "      <td>5.97 × 10^24 kg</td>\n",
       "    </tr>\n",
       "    <tr>\n",
       "      <th>3</th>\n",
       "      <td>Moons:</td>\n",
       "      <td>2</td>\n",
       "      <td>1</td>\n",
       "    </tr>\n",
       "    <tr>\n",
       "      <th>4</th>\n",
       "      <td>Distance from Sun:</td>\n",
       "      <td>227,943,824 km</td>\n",
       "      <td>149,598,262 km</td>\n",
       "    </tr>\n",
       "  </tbody>\n",
       "</table>\n",
       "</div>"
      ],
      "text/plain": [
       "               Description          Plant 1          Plant 2\n",
       "0  Mars - Earth Comparison             Mars            Earth\n",
       "1                Diameter:         6,779 km        12,742 km\n",
       "2                    Mass:  6.39 × 10^23 kg  5.97 × 10^24 kg\n",
       "3                   Moons:                2                1\n",
       "4       Distance from Sun:   227,943,824 km   149,598,262 km"
      ]
     },
     "execution_count": 322,
     "metadata": {},
     "output_type": "execute_result"
    }
   ],
   "source": [
    "# Create table and merge into a df\n",
    "tables = pd.read_html(url)\n",
    "df = tables[0]\n",
    "df.columns = [\"Description\",\"Plant 1\",\"Plant 2\"]\n",
    "df.head()"
   ]
  },
  {
   "cell_type": "code",
   "execution_count": 323,
   "id": "3ae8f1c3",
   "metadata": {},
   "outputs": [
    {
     "data": {
      "text/plain": [
       "'<table border=\"1\" class=\"dataframe\">\\n  <thead>\\n    <tr style=\"text-align: right;\">\\n      <th></th>\\n      <th>Description</th>\\n      <th>Plant 1</th>\\n      <th>Plant 2</th>\\n    </tr>\\n  </thead>\\n  <tbody>\\n    <tr>\\n      <th>0</th>\\n      <td>Mars - Earth Comparison</td>\\n      <td>Mars</td>\\n      <td>Earth</td>\\n    </tr>\\n    <tr>\\n      <th>1</th>\\n      <td>Diameter:</td>\\n      <td>6,779 km</td>\\n      <td>12,742 km</td>\\n    </tr>\\n    <tr>\\n      <th>2</th>\\n      <td>Mass:</td>\\n      <td>6.39 × 10^23 kg</td>\\n      <td>5.97 × 10^24 kg</td>\\n    </tr>\\n    <tr>\\n      <th>3</th>\\n      <td>Moons:</td>\\n      <td>2</td>\\n      <td>1</td>\\n    </tr>\\n    <tr>\\n      <th>4</th>\\n      <td>Distance from Sun:</td>\\n      <td>227,943,824 km</td>\\n      <td>149,598,262 km</td>\\n    </tr>\\n    <tr>\\n      <th>5</th>\\n      <td>Length of Year:</td>\\n      <td>687 Earth days</td>\\n      <td>365.24 days</td>\\n    </tr>\\n    <tr>\\n      <th>6</th>\\n      <td>Temperature:</td>\\n      <td>-87 to -5 °C</td>\\n      <td>-88 to 58°C</td>\\n    </tr>\\n  </tbody>\\n</table>'"
      ]
     },
     "execution_count": 323,
     "metadata": {},
     "output_type": "execute_result"
    }
   ],
   "source": [
    "# Convert df into html \n",
    "html_table = df.to_html()\n",
    "html_table"
   ]
  },
  {
   "cell_type": "code",
   "execution_count": 324,
   "id": "71650be4",
   "metadata": {},
   "outputs": [
    {
     "data": {
      "text/plain": [
       "'<table border=\"1\" class=\"dataframe\">  <thead>    <tr style=\"text-align: right;\">      <th></th>      <th>Description</th>      <th>Plant 1</th>      <th>Plant 2</th>    </tr>  </thead>  <tbody>    <tr>      <th>0</th>      <td>Mars - Earth Comparison</td>      <td>Mars</td>      <td>Earth</td>    </tr>    <tr>      <th>1</th>      <td>Diameter:</td>      <td>6,779 km</td>      <td>12,742 km</td>    </tr>    <tr>      <th>2</th>      <td>Mass:</td>      <td>6.39 × 10^23 kg</td>      <td>5.97 × 10^24 kg</td>    </tr>    <tr>      <th>3</th>      <td>Moons:</td>      <td>2</td>      <td>1</td>    </tr>    <tr>      <th>4</th>      <td>Distance from Sun:</td>      <td>227,943,824 km</td>      <td>149,598,262 km</td>    </tr>    <tr>      <th>5</th>      <td>Length of Year:</td>      <td>687 Earth days</td>      <td>365.24 days</td>    </tr>    <tr>      <th>6</th>      <td>Temperature:</td>      <td>-87 to -5 °C</td>      <td>-88 to 58°C</td>    </tr>  </tbody></table>'"
      ]
     },
     "execution_count": 324,
     "metadata": {},
     "output_type": "execute_result"
    }
   ],
   "source": [
    "# Clean up\n",
    "clean_html = html_table.replace('\\n', '')\n",
    "clean_html"
   ]
  },
  {
   "cell_type": "code",
   "execution_count": 325,
   "id": "a2dc3e1f",
   "metadata": {},
   "outputs": [],
   "source": [
    "# Save file as html \n",
    "df.to_html('mars_table.html')"
   ]
  },
  {
   "cell_type": "code",
   "execution_count": 326,
   "id": "e3918f07",
   "metadata": {},
   "outputs": [],
   "source": [
    "# Mars Hemispheres\n",
    "\n",
    "# Create dictionary to contain all planets image & title \n",
    "planet_dict = []"
   ]
  },
  {
   "cell_type": "code",
   "execution_count": 327,
   "id": "259c7397",
   "metadata": {},
   "outputs": [
    {
     "data": {
      "text/plain": [
       "['img_url:https://marshemispheres.com/images/f5e372a36edfa389625da6d0cc25d905_cerberus_enhanced.tif_full.jpg',\n",
       " 'title:Cerberus Hemisphere Enhanced']"
      ]
     },
     "execution_count": 327,
     "metadata": {},
     "output_type": "execute_result"
    }
   ],
   "source": [
    "#Cerberus\n",
    "\n",
    "# url https://marshemispheres.com/\n",
    "url = 'https://marshemispheres.com/'\n",
    "browser.visit(url)\n",
    "time.sleep(2)\n",
    "\n",
    "#Click on url link \n",
    "browser.links.find_by_partial_text('Cerberus').click()\n",
    "\n",
    "\n",
    "html = browser.html\n",
    "soup = bs(html,\"html.parser\")\n",
    "# print(soup.prettify())\n",
    "\n",
    "#Pull the link that contains the full image \n",
    "img_link = soup.find('img', class_='wide-image').get('src')\n",
    "\n",
    "#Pull Hemisphere title \n",
    "cerberus_title = soup.find('h2', class_='title').text\n",
    "# print(cerberus_title)\n",
    "\n",
    "# Combine url & img link to make full html link=\n",
    "cerberus_img = url + img_link\n",
    "# print(cerberus_img)\n",
    "\n",
    "browser.back()\n",
    "#Create dictionaries to the img url and title \n",
    "\n",
    "cerberus_dict = {'title:' + cerberus_title, 'img_url:' + cerberus_img}\n",
    "planet_dict.append(cerberus_dict)\n",
    "\n",
    "list(cerberus_dict)"
   ]
  },
  {
   "cell_type": "code",
   "execution_count": 328,
   "id": "ab53ca6b",
   "metadata": {},
   "outputs": [
    {
     "data": {
      "text/plain": [
       "['title:Schiaparelli Hemisphere Enhanced',\n",
       " 'img_url:https://marshemispheres.com/images/3778f7b43bbbc89d6e3cfabb3613ba93_schiaparelli_enhanced.tif_full.jpg']"
      ]
     },
     "execution_count": 328,
     "metadata": {},
     "output_type": "execute_result"
    }
   ],
   "source": [
    "# Schiaparelli\n",
    "\n",
    "# url https://marshemispheres.com/\n",
    "url = 'https://marshemispheres.com/'\n",
    "browser.visit(url)\n",
    "time.sleep(2)\n",
    "\n",
    "#Click on url link \n",
    "browser.links.find_by_partial_text('Schiaparelli').click()\n",
    "\n",
    "\n",
    "html = browser.html\n",
    "soup = bs(html,\"html.parser\")\n",
    "# print(soup.prettify())\n",
    "\n",
    "#Pull the link that contains the full image \n",
    "img_link = soup.find('img', class_='wide-image').get('src')\n",
    "\n",
    "#Pull Hemisphere title \n",
    "schiaparelli_title = soup.find('h2', class_='title').text\n",
    "# print(cerberus_title)\n",
    "\n",
    "# Combine url & img link to make full html link=\n",
    "schiaparelli_img = url + img_link\n",
    "# print(cerberus_img)\n",
    "\n",
    "browser.back()\n",
    "#Create dictionaries to the img url and title \n",
    "\n",
    "schiaparelli_dict = {'title:' + schiaparelli_title, 'img_url:' + schiaparelli_img}\n",
    "planet_dict.append(schiaparelli_dict)\n",
    "\n",
    "list(schiaparelli_dict)"
   ]
  },
  {
   "cell_type": "code",
   "execution_count": 329,
   "id": "946b15e5",
   "metadata": {},
   "outputs": [
    {
     "data": {
      "text/plain": [
       "['title:Syrtis Major Hemisphere Enhanced',\n",
       " 'img_url:https://marshemispheres.com/images/555e6403a6ddd7ba16ddb0e471cadcf7_syrtis_major_enhanced.tif_full.jpg']"
      ]
     },
     "execution_count": 329,
     "metadata": {},
     "output_type": "execute_result"
    }
   ],
   "source": [
    "# Syrtis\n",
    "\n",
    "# url https://marshemispheres.com/\n",
    "url = 'https://marshemispheres.com/'\n",
    "browser.visit(url)\n",
    "time.sleep(2)\n",
    "\n",
    "#Click on url link \n",
    "browser.links.find_by_partial_text('Syrtis').click()\n",
    "\n",
    "\n",
    "html = browser.html\n",
    "soup = bs(html,\"html.parser\")\n",
    "# print(soup.prettify())\n",
    "\n",
    "#Pull the link that contains the full image \n",
    "img_link = soup.find('img', class_='wide-image').get('src')\n",
    "\n",
    "#Pull Hemisphere title \n",
    "syrtis_title = soup.find('h2', class_='title').text\n",
    "# print(cerberus_title)\n",
    "\n",
    "# Combine url & img link to make full html link=\n",
    "syrtis_img = url + img_link\n",
    "# print(cerberus_img)\n",
    "\n",
    "browser.back()\n",
    "#Create dictionaries to the img url and title \n",
    "\n",
    "syrtis_dict = {'title:' + syrtis_title, 'img_url:' + syrtis_img}\n",
    "planet_dict.append(syrtis_dict)\n",
    "\n",
    "list(syrtis_dict)"
   ]
  },
  {
   "cell_type": "code",
   "execution_count": 330,
   "id": "30bf8a97",
   "metadata": {},
   "outputs": [
    {
     "data": {
      "text/plain": [
       "['img_url:https://marshemispheres.com/images/b3c7c6c9138f57b4756be9b9c43e3a48_valles_marineris_enhanced.tif_full.jpg',\n",
       " 'title:Valles Marineris Hemisphere Enhanced']"
      ]
     },
     "execution_count": 330,
     "metadata": {},
     "output_type": "execute_result"
    }
   ],
   "source": [
    "# Valles Marineris\n",
    "\n",
    "# url https://marshemispheres.com/\n",
    "url = 'https://marshemispheres.com/'\n",
    "browser.visit(url)\n",
    "time.sleep(2)\n",
    "\n",
    "#Click on url link \n",
    "browser.links.find_by_partial_text('Valles Marineris').click()\n",
    "\n",
    "\n",
    "html = browser.html\n",
    "soup = bs(html,\"html.parser\")\n",
    "# print(soup.prettify())\n",
    "\n",
    "#Pull the link that contains the full image \n",
    "img_link = soup.find('img', class_='wide-image').get('src')\n",
    "\n",
    "#Pull Hemisphere title \n",
    "valles_title = soup.find('h2', class_='title').text\n",
    "# print(cerberus_title)\n",
    "\n",
    "# Combine url & img link to make full html link=\n",
    "valles_img = url + img_link\n",
    "# print(cerberus_img)\n",
    "\n",
    "browser.back()\n",
    "#Create dictionaries to the img url and title \n",
    "\n",
    "valles_dict = {'title:' + valles_title, 'img_url:' + valles_img}\n",
    "planet_dict.append(valles_dict)\n",
    "\n",
    "list(valles_dict)"
   ]
  },
  {
   "cell_type": "code",
   "execution_count": 331,
   "id": "1e5f385f",
   "metadata": {},
   "outputs": [
    {
     "data": {
      "text/plain": [
       "[{'img_url:https://marshemispheres.com/images/f5e372a36edfa389625da6d0cc25d905_cerberus_enhanced.tif_full.jpg',\n",
       "  'title:Cerberus Hemisphere Enhanced'},\n",
       " {'img_url:https://marshemispheres.com/images/3778f7b43bbbc89d6e3cfabb3613ba93_schiaparelli_enhanced.tif_full.jpg',\n",
       "  'title:Schiaparelli Hemisphere Enhanced'},\n",
       " {'img_url:https://marshemispheres.com/images/555e6403a6ddd7ba16ddb0e471cadcf7_syrtis_major_enhanced.tif_full.jpg',\n",
       "  'title:Syrtis Major Hemisphere Enhanced'},\n",
       " {'img_url:https://marshemispheres.com/images/b3c7c6c9138f57b4756be9b9c43e3a48_valles_marineris_enhanced.tif_full.jpg',\n",
       "  'title:Valles Marineris Hemisphere Enhanced'}]"
      ]
     },
     "execution_count": 331,
     "metadata": {},
     "output_type": "execute_result"
    }
   ],
   "source": [
    "list(planet_dict)"
   ]
  },
  {
   "cell_type": "code",
   "execution_count": null,
   "id": "0b238211",
   "metadata": {},
   "outputs": [],
   "source": []
  }
 ],
 "metadata": {
  "kernelspec": {
   "display_name": "Python 3",
   "language": "python",
   "name": "python3"
  },
  "language_info": {
   "codemirror_mode": {
    "name": "ipython",
    "version": 3
   },
   "file_extension": ".py",
   "mimetype": "text/x-python",
   "name": "python",
   "nbconvert_exporter": "python",
   "pygments_lexer": "ipython3",
   "version": "3.6.10"
  }
 },
 "nbformat": 4,
 "nbformat_minor": 5
}
